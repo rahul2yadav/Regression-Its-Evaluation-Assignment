{
  "nbformat": 4,
  "nbformat_minor": 0,
  "metadata": {
    "colab": {
      "provenance": []
    },
    "kernelspec": {
      "name": "python3",
      "display_name": "Python 3"
    },
    "language_info": {
      "name": "python"
    }
  },
  "cells": [
    {
      "cell_type": "markdown",
      "source": [
        "Question 1: What is Simple Linear Regression?\n",
        "\n",
        "  -->  Simple Linear Regression is a statistical method used to model the relationship between two continuous variables, specifically one independent variable and one dependent variable, using a straight line equation.\n",
        "\n",
        "Definition and Purpose\n",
        "Simple linear regression allows for estimating how the dependent variable changes as the independent variable changes. The primary goal is to find the best-fitting line (regression line) that predicts the value of the dependent variable based on the input value of the independent variable.\n",
        "\n",
        "Mathematical Formula\n",
        "The equation for simple linear regression is:\n",
        "\n",
        "y\n",
        "=\n",
        "β\n",
        "0\n",
        "+\n",
        "β\n",
        "1\n",
        "x\n",
        "+\n",
        "ϵ\n",
        "y=β\n",
        "0\n",
        " +β\n",
        "1\n",
        " x+ϵ\n",
        "where:\n",
        "\n",
        "y\n",
        "y: predicted value (dependent variable)\n",
        "\n",
        "β\n",
        "0\n",
        "β\n",
        "0\n",
        " : intercept (value of\n",
        "y\n",
        "y when\n",
        "x\n",
        "=\n",
        "0\n",
        "x=0)\n",
        "\n",
        "β\n",
        "1\n",
        "β\n",
        "1\n",
        " : slope (change in\n",
        "y\n",
        "y for each one unit change in\n",
        "x\n",
        "x)\n",
        "\n",
        "x\n",
        "x: independent variable\n",
        "\n",
        "ϵ\n",
        "ϵ: residual error term (difference between observed and predicted values)\n",
        "\n",
        "Example Usage\n",
        "Predicting a student’s exam score (\n",
        "y\n",
        "y) based on hours studied (\n",
        "x\n",
        "x).\n",
        "\n",
        "Estimating soil erosion based on rainfall levels.\n",
        "\n",
        "Key Assumptions\n",
        "The relationship between variables is linear.\n",
        "\n",
        "Residuals (errors) are normally distributed.\n",
        "\n",
        "Homoscedasticity: constant variance of errors.\n",
        "\n",
        "Independence of observations.\n",
        "\n",
        "Simple linear regression provides a foundation for more advanced modeling techniques and is widely used in statistics and machine learning for predictive analysis and inference."
      ],
      "metadata": {
        "id": "6WAuToT6QCRq"
      }
    },
    {
      "cell_type": "markdown",
      "source": [
        "Question 2: What are the key assumptions of Simple Linear Regression?\n",
        "\n",
        "--> Key Assumptions of Simple Linear Regression\n",
        "\n",
        "Linearity\n",
        "\n",
        "The relationship between the independent variable (X) and dependent variable (Y) is assumed to be linear.\n",
        "\n",
        "Mathematically:\n",
        "\n",
        "𝑌\n",
        "=\n",
        "𝛽\n",
        "0\n",
        "+\n",
        "𝛽\n",
        "1\n",
        "𝑋\n",
        "+\n",
        "𝜀\n",
        "Y=β\n",
        "0\n",
        "\t​\n",
        "\n",
        "+β\n",
        "1\n",
        "\t​\n",
        "\n",
        "X+ε\n",
        "\n",
        "Independence of Errors\n",
        "\n",
        "The residuals (errors) are independent of each other.\n",
        "\n",
        "No autocorrelation should exist (important in time series data).\n",
        "\n",
        "Homoscedasticity (Constant Variance)\n",
        "\n",
        "The variance of the error terms (\n",
        "𝜀\n",
        "ε) is constant across all values of X.\n",
        "\n",
        "If variance changes (heteroscedasticity), predictions may be inefficient.\n",
        "\n",
        "Normality of Errors\n",
        "\n",
        "The residuals (differences between observed and predicted values) should be approximately normally distributed.\n",
        "\n",
        "Important for hypothesis testing and confidence intervals.\n",
        "\n",
        "No Perfect Multicollinearity\n",
        "\n",
        "Since SLR has only one independent variable, this assumption is naturally satisfied.\n",
        "\n",
        "More relevant in multiple regression.\n",
        "\n",
        "No Significant Outliers\n",
        "\n",
        "Outliers can strongly influence the slope and intercept, so data should be checked for unusual points."
      ],
      "metadata": {
        "id": "7QUwbZFRQaE9"
      }
    },
    {
      "cell_type": "markdown",
      "source": [
        "Question 3: What is heteroscedasticity, and why is it important to address in regression\n",
        "models?\n",
        "\n",
        "--> Heteroscedasticity refers to the condition in regression analysis where the variance of the error terms (residuals) is not constant across all levels of an independent variable, violating a key regression assumption and potentially undermining the reliability of model estimates.\n",
        "\n",
        "Definition and Concept\n",
        "Heteroscedasticity occurs when the scatter of residuals or errors in a regression model increases or decreases systematically with the value of a predictor variable.\n",
        "\n",
        "In contrast, homoscedasticity describes a situation where the variance of residuals is consistent across all levels of the independent variable.\n",
        "\n",
        "The term itself comes from Greek origins meaning \"different dispersion\".\n",
        "\n",
        "Importance in Regression Models\n",
        "Violation of Regression Assumptions: Ordinary Least Squares (OLS) regression assumes the error variance is constant; heteroscedasticity directly violates this assumption, which can lead to inefficient parameter estimates and unreliable hypothesis testing.\n",
        "\n",
        "Impact on Statistical Inference: When heteroscedasticity is present, standard errors of regression coefficients may be biased, increasing the likelihood of incorrect significance results and \"false positives\" or \"false negatives\" in regression output.\n",
        "\n",
        "Practical Examples: This issue frequently arises in economic data, financial modeling, and cross-sectional studies where variables are spread over wide ranges or measurement error increases with the magnitude of observations.\n",
        "\n",
        "Detecting and Addressing Heteroscedasticity\n",
        "Residual plots often reveal a “fan” or “cone” shape if heteroscedasticity exists, showing that error spread grows or shrinks systematically with fitted values.\n",
        "\n",
        "Statistical tests such as the Breusch-Pagan and White tests can formally diagnose heteroscedasticity.\n",
        "\n",
        "Addressing heteroscedasticity can involve transforming variables, using robust standard errors, or applying alternative regression techniques.\n",
        "\n",
        "Addressing heteroscedasticity is critical for ensuring valid regression results and robust statistical inference in model-based analyses"
      ],
      "metadata": {
        "id": "HXKn0NDKQ_DA"
      }
    },
    {
      "cell_type": "markdown",
      "source": [
        "Question 4: What is Multiple Linear Regression?\n",
        "\n",
        "\n",
        "**Multiple Linear Regression** is a statistical technique used to model the relationship between one dependent variable and two or more independent variables. It extends simple linear regression by allowing multiple predictors to explain the variation in the response variable.\n",
        "\n",
        "The general form of a multiple linear regression model is:\n",
        "\n",
        "\\[\n",
        "y = \\beta_0 + \\beta_1 x_1 + \\beta_2 x_2 + \\cdots + \\beta_p x_p + \\epsilon\n",
        "\\]\n",
        "\n",
        "where:\n",
        "- \\( y \\) is the dependent variable,\n",
        "- \\( x_1, x_2, \\ldots, x_p \\) are the independent variables (predictors),\n",
        "- \\( \\beta_0 \\) is the intercept,\n",
        "- \\( \\beta_1, \\beta_2, \\ldots, \\beta_p \\) are the coefficients representing the effect of each predictor,\n",
        "- \\( \\epsilon \\) is the error term capturing the variation not explained by the predictors.\n",
        "\n",
        "**Purpose:**  \n",
        "Multiple linear regression helps to understand how several factors together influence the outcome and to predict the dependent variable based on multiple inputs.\n",
        "\n",
        "\n",
        "Key Features and Assumptions\n",
        "Linearity: The relationship between dependent and independent variables is linear.\n",
        "\n",
        "Independence: Observations are independently drawn from the population.\n",
        "\n",
        "Homoscedasticity: Residuals (errors) have constant variance across all levels of independent variables.\n",
        "\n",
        "No multicollinearity: Independent variables should not be highly correlated with each other.\n",
        "\n",
        "Normality: The residuals are normally distributed.\n",
        "\n",
        "Applications\n",
        "Multiple linear regression is commonly used for forecasting, hypothesis testing, understanding complex relationships, and determining the relative influence of various predictors.\n",
        "\n",
        "MLR is a foundational tool in statistical modeling and data analysis, allowing researchers to understand how multiple variables jointly affect an outcome"
      ],
      "metadata": {
        "id": "ruDf7pQ9Rc0J"
      }
    },
    {
      "cell_type": "markdown",
      "source": [
        "Question 5: What is polynomial regression, and how does it differ from linear\n",
        "regression?\n",
        "\n",
        "--> **Polynomial regression** is a type of regression analysis in which the relationship between the independent variable \\( x \\) and the dependent variable \\( y \\) is modeled as an \\( n \\)-th degree polynomial. It extends linear regression by allowing for curved relationships between variables.\n",
        "\n",
        "### Polynomial Regression:\n",
        "The model can be written as:\n",
        "\n",
        "\\[\n",
        "y = \\beta_0 + \\beta_1 x + \\beta_2 x^2 + \\beta_3 x^3 + \\cdots + \\beta_n x^n + \\epsilon\n",
        "\\]\n",
        "\n",
        "where:\n",
        "- \\( y \\) is the dependent variable,\n",
        "- \\( x \\) is the independent variable,\n",
        "- \\( \\beta_0, \\beta_1, \\ldots, \\beta_n \\) are the coefficients to be estimated,\n",
        "- \\( n \\) is the degree of the polynomial,\n",
        "- \\( \\epsilon \\) is the error term.\n",
        "\n",
        "### Linear Regression:\n",
        "In contrast, **linear regression** assumes a linear relationship between \\( x \\) and \\( y \\):\n",
        "\n",
        "\\[\n",
        "y = \\beta_0 + \\beta_1 x + \\epsilon\n",
        "\\]\n",
        "\n",
        "### Key Differences:\n",
        "- **Model form**: Linear regression fits a straight line, while polynomial regression fits a curve.\n",
        "- **Flexibility**: Polynomial regression can model nonlinear relationships by including higher-degree terms.\n",
        "- **Complexity**: Polynomial regression is more complex and can lead to overfitting if the degree \\( n \\) is too high.\n",
        "\n",
        "In summary, polynomial regression generalizes linear regression by including polynomial terms of the independent variable to capture nonlinear patterns in the data."
      ],
      "metadata": {
        "id": "ooLgYLCySKxH"
      }
    },
    {
      "cell_type": "markdown",
      "source": [
        "Question 6: Implement a Python program to fit a Simple Linear Regression model to\n",
        "the following sample data:\n",
        "● X = [1, 2, 3, 4, 5]\n",
        "● Y = [2.1, 4.3, 6.1, 7.9, 10.2]\n",
        "Plot the regression line over the data points"
      ],
      "metadata": {
        "id": "IvyBY2pHRtsr"
      }
    },
    {
      "cell_type": "code",
      "execution_count": 1,
      "metadata": {
        "colab": {
          "base_uri": "https://localhost:8080/",
          "height": 472
        },
        "id": "8nmzF2adP-h6",
        "outputId": "9d9a53bf-e291-4f31-93f2-d8cf20ff1a17"
      },
      "outputs": [
        {
          "output_type": "display_data",
          "data": {
            "text/plain": [
              "<Figure size 640x480 with 1 Axes>"
            ],
            "image/png": "[encoded data removed]"
          },
          "metadata": {}
        }
      ],
      "source": [
        "import numpy as np\n",
        "import matplotlib.pyplot as plt\n",
        "from sklearn.linear_model import LinearRegression\n",
        "# Sample data\n",
        "X = np.array([1, 2, 3, 4, 5]).reshape(-1, 1)  # Reshape for sklearn\n",
        "Y = np.array([2.1, 4.3, 6.1, 7.9, 10.2])\n",
        "# Create and fit the model\n",
        "model = LinearRegression()\n",
        "model.fit(X, Y)\n",
        "# Predict Y values using the model\n",
        "Y_pred = model.predict(X)\n",
        "# Plotting the data points\n",
        "plt.scatter(X, Y, color='blue', label='Data points')\n",
        "# Plotting the regression line\n",
        "plt.plot(X, Y_pred, color='red', label='Regression line')\n",
        "plt.xlabel('X')\n",
        "plt.ylabel('Y')\n",
        "plt.title('Simple Linear Regression')\n",
        "plt.legend()\n",
        "plt.show()"
      ]
    },
    {
      "cell_type": "markdown",
      "source": [
        "Question 7: Fit a Multiple Linear Regression model on this sample data:\n",
        "● Area = [1200, 1500, 1800, 2000]\n",
        "● Rooms = [2, 3, 3, 4]\n",
        "● Price = [250000, 300000, 320000, 370000]\n",
        "Check for multicollinearity using VIF and report the results.\n",
        "(Include your Python code and output in the code box below.)"
      ],
      "metadata": {
        "id": "qSTpjymzUJk8"
      }
    },
    {
      "cell_type": "code",
      "source": [
        "import pandas as pd\n",
        "import numpy as np\n",
        "from sklearn.linear_model import LinearRegression\n",
        "from statsmodels.stats.outliers_influence import variance_inflation_factor\n",
        "\n",
        "# Sample data\n",
        "data = {\n",
        "    'Area': [1200, 1500, 1800, 2000],\n",
        "    'Rooms': [2, 3, 3, 4],\n",
        "    'Price': [250000, 300000, 320000, 370000]\n",
        "}\n",
        "\n",
        "df = pd.DataFrame(data)\n",
        "\n",
        "# Features and target\n",
        "X = df[['Area', 'Rooms']]\n",
        "y = df['Price']\n",
        "\n",
        "# Fit Multiple Linear Regression model\n",
        "model = LinearRegression()\n",
        "model.fit(X, y)\n",
        "\n",
        "print(\"Coefficients:\")\n",
        "print(f\"Area: {model.coef_[0]}\")\n",
        "print(f\"Rooms: {model.coef_[1]}\")\n",
        "print(f\"Intercept: {model.intercept_}\")\n",
        "\n",
        "# Calculate VIF for each feature\n",
        "vif_data = pd.DataFrame()\n",
        "vif_data['Feature'] = X.columns\n",
        "vif_data['VIF'] = [variance_inflation_factor(X.values, i) for i in range(X.shape[1])]\n",
        "\n",
        "print(\"\\nVariance Inflation Factor (VIF):\")\n",
        "print(vif_data)\n"
      ],
      "metadata": {
        "colab": {
          "base_uri": "https://localhost:8080/"
        },
        "id": "FZScwVKSVzHG",
        "outputId": "c62341d3-99dd-448f-ddac-3ee917d63345"
      },
      "execution_count": 7,
      "outputs": [
        {
          "output_type": "stream",
          "name": "stdout",
          "text": [
            "Coefficients:\n",
            "Area: 63.15789473684211\n",
            "Rooms: 34736.842105263146\n",
            "Intercept: 103157.89473684214\n",
            "\n",
            "Variance Inflation Factor (VIF):\n",
            "  Feature         VIF\n",
            "0    Area  127.796923\n",
            "1   Rooms  127.796923\n"
          ]
        }
      ]
    },
    {
      "cell_type": "markdown",
      "source": [
        "Question 8: Implement polynomial regression on the following data:\n",
        "● X = [1, 2, 3, 4, 5]\n",
        "3\n",
        "● Y = [2.2, 4.8, 7.5, 11.2, 14.7]\n",
        "Fit a 2nd-degree polynomial and plot the resulting curve.\n",
        "(Include your Python code and output in the code box below.)"
      ],
      "metadata": {
        "id": "-Hvs8X9qVGus"
      }
    },
    {
      "cell_type": "code",
      "source": [
        "import numpy as np\n",
        "import matplotlib.pyplot as plt\n",
        "from sklearn.preprocessing import PolynomialFeatures\n",
        "from sklearn.linear_model import LinearRegression\n",
        "\n",
        "# Sample data\n",
        "X = np.array([1, 2, 3, 4, 5]).reshape(-1, 1)\n",
        "Y = np.array([2.2, 4.8, 7.5, 11.2, 14.7])\n",
        "\n",
        "# Transform features to polynomial features (degree 2)\n",
        "poly = PolynomialFeatures(degree=2)\n",
        "X_poly = poly.fit_transform(X)\n",
        "\n",
        "# Fit the polynomial regression model\n",
        "model = LinearRegression()\n",
        "model.fit(X_poly, Y)\n",
        "\n",
        "# Predict values\n",
        "X_fit = np.linspace(1, 5, 100).reshape(-1, 1)\n",
        "X_fit_poly = poly.transform(X_fit)\n",
        "Y_fit = model.predict(X_fit_poly)\n",
        "\n",
        "# Plot data points\n",
        "plt.scatter(X, Y, color='blue', label='Data points')\n",
        "\n",
        "# Plot polynomial regression curve\n",
        "plt.plot(X_fit, Y_fit, color='red', label='2nd Degree Polynomial Fit')\n",
        "\n",
        "plt.xlabel('X')\n",
        "plt.ylabel('Y')\n",
        "plt.title('Polynomial Regression (Degree 2)')\n",
        "plt.legend()\n",
        "plt.show()\n"
      ],
      "metadata": {
        "colab": {
          "base_uri": "https://localhost:8080/",
          "height": 472
        },
        "id": "YJM7UiF8UmCg",
        "outputId": "3758dad5-c66f-4035-ec67-8dd2b9bac2f8"
      },
      "execution_count": 5,
      "outputs": [
        {
          "output_type": "display_data",
          "data": {
            "text/plain": [
              "<Figure size 640x480 with 1 Axes>"
            ],
            "image/png": "[encoded data removed]"
          },
          "metadata": {}
        }
      ]
    },
    {
      "cell_type": "markdown",
      "source": [
        "Question 9: Create a residuals plot for a regression model trained on this data:\n",
        "● X = [10, 20, 30, 40, 50]\n",
        "● Y = [15, 35, 40, 50, 65]\n",
        "Assess heteroscedasticity by examining the spread of residuals.\n",
        "(Include your Python code and output in the code box below.)\n"
      ],
      "metadata": {
        "id": "NdzuebxsVMwI"
      }
    },
    {
      "cell_type": "code",
      "source": [
        "import numpy as np\n",
        "import matplotlib.pyplot as plt\n",
        "from sklearn.linear_model import LinearRegression\n",
        "\n",
        "# Sample data\n",
        "X = np.array([10, 20, 30, 40, 50]).reshape(-1, 1)\n",
        "Y = np.array([15, 35, 40, 50, 65])\n",
        "\n",
        "# Fit linear regression model\n",
        "model = LinearRegression()\n",
        "model.fit(X, Y)\n",
        "\n",
        "# Predict Y values\n",
        "Y_pred = model.predict(X)\n",
        "\n",
        "# Calculate residuals\n",
        "residuals = Y - Y_pred\n",
        "\n",
        "# Plot residuals\n",
        "plt.scatter(X, residuals, color='purple')\n",
        "plt.axhline(y=0, color='black', linestyle='--')\n",
        "plt.xlabel('X')\n",
        "plt.ylabel('Residuals')\n",
        "plt.title('Residuals Plot')\n",
        "\n",
        "plt.show()\n"
      ],
      "metadata": {
        "colab": {
          "base_uri": "https://localhost:8080/",
          "height": 472
        },
        "id": "KrvRQRggVEy7",
        "outputId": "35d40266-d404-4ca8-d7ca-8d94e79cbf3f"
      },
      "execution_count": 6,
      "outputs": [
        {
          "output_type": "display_data",
          "data": {
            "text/plain": [
              "<Figure size 640x480 with 1 Axes>"
            ],
            "image/png": "[encoded data removed]"
          },
          "metadata": {}
        }
      ]
    },
    {
      "cell_type": "markdown",
      "source": [
        "10. Imagine you are a data scientist working for a real estate company. You\n",
        "need to predict house prices using features like area, number of rooms, and location.\n",
        "However, you detect heteroscedasticity and multicollinearity in your regression\n",
        "model. Explain the steps you would take to address these issues and ensure a robust\n",
        "model.\n",
        "\n",
        "--> To address **heteroscedasticity** and **multicollinearity** in a regression model predicting house prices, I would take the following steps:\n",
        "\n",
        "### 1. Addressing Heteroscedasticity\n",
        "Heteroscedasticity means the variance of residuals is not constant, which violates regression assumptions and can lead to inefficient estimates.\n",
        "\n",
        "- **Transform the dependent variable**: Apply transformations such as logarithm, square root, or Box-Cox transformation to stabilize variance. For example, modeling \\(\\log(\\text{Price})\\) instead of Price often reduces heteroscedasticity.\n",
        "- **Use robust standard errors**: Employ heteroscedasticity-consistent (robust) standard errors (e.g., White’s standard errors) to get valid inference even if heteroscedasticity persists.\n",
        "- **Weighted Least Squares (WLS)**: Assign weights inversely proportional to the variance of residuals to give less influence to observations with higher variance.\n",
        "- **Add or transform predictors**: Sometimes heteroscedasticity arises because important variables or nonlinear relationships are missing. Adding relevant features or polynomial terms can help.\n",
        "\n",
        "### 2. Addressing Multicollinearity\n",
        "Multicollinearity occurs when predictor variables are highly correlated, causing unstable coefficient estimates.\n",
        "\n",
        "- **Check correlation matrix and VIF**: Identify highly correlated features and those with high Variance Inflation Factor (VIF).\n",
        "- **Remove or combine correlated features**: Drop redundant variables or combine them (e.g., create an index or use principal component analysis).\n",
        "- **Regularization techniques**: Use regression methods like Ridge or Lasso that penalize large coefficients and reduce multicollinearity effects.\n",
        "- **Feature engineering**: Create new features that better capture the underlying information without redundancy.\n",
        "\n",
        "### 3. Additional Steps for a Robust Model\n",
        "- **Cross-validation**: Use cross-validation to ensure the model generalizes well to unseen data.\n",
        "- **Model diagnostics**: Continuously check residual plots, leverage plots, and other diagnostics to detect remaining issues.\n",
        "- **Consider alternative models**: If linear regression assumptions are too violated, consider tree-based models (e.g., Random Forest, Gradient Boosting) which are less sensitive to these issues.\n",
        "\n",
        "---\n",
        "\n",
        "**Summary:**  \n",
        "- Transform target variable or use robust methods to handle heteroscedasticity.  \n",
        "- Detect and reduce multicollinearity by removing/reducing correlated features or using regularization.  \n",
        "- Validate model performance and assumptions iteratively to ensure robustness."
      ],
      "metadata": {
        "id": "rjlgXi_EVbAB"
      }
    },
    {
      "cell_type": "markdown",
      "source": [],
      "metadata": {
        "id": "fiNdDquHVoX6"
      }
    },
    {
      "cell_type": "code",
      "source": [],
      "metadata": {
        "id": "uiIf2G5kVXFZ"
      },
      "execution_count": null,
      "outputs": []
    }
  ]
}